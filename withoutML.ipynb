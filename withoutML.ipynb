{
 "cells": [
  {
   "cell_type": "code",
   "execution_count": 58,
   "metadata": {},
   "outputs": [],
   "source": [
    "import numpy as np\n",
    "import matplotlib.pyplot as plt\n",
    "import pandas as pd"
   ]
  },
  {
   "cell_type": "code",
   "execution_count": 59,
   "metadata": {},
   "outputs": [],
   "source": [
    "df = pd.read_excel('Internship Naming.xlsx', sheet_name='Duration')"
   ]
  },
  {
   "cell_type": "code",
   "execution_count": 60,
   "metadata": {},
   "outputs": [
    {
     "data": {
      "text/html": [
       "<div>\n",
       "<style scoped>\n",
       "    .dataframe tbody tr th:only-of-type {\n",
       "        vertical-align: middle;\n",
       "    }\n",
       "\n",
       "    .dataframe tbody tr th {\n",
       "        vertical-align: top;\n",
       "    }\n",
       "\n",
       "    .dataframe thead th {\n",
       "        text-align: right;\n",
       "    }\n",
       "</style>\n",
       "<table border=\"1\" class=\"dataframe\">\n",
       "  <thead>\n",
       "    <tr style=\"text-align: right;\">\n",
       "      <th></th>\n",
       "      <th>Description</th>\n",
       "      <th>Unnamed: 1</th>\n",
       "      <th>Unnamed: 2</th>\n",
       "      <th>Unnamed: 3</th>\n",
       "      <th>Unnamed: 4</th>\n",
       "      <th>Unnamed: 5</th>\n",
       "      <th>Unnamed: 6</th>\n",
       "      <th>Unnamed: 7</th>\n",
       "      <th>Unnamed: 8</th>\n",
       "      <th>Unnamed: 9</th>\n",
       "      <th>Unnamed: 10</th>\n",
       "      <th>Code</th>\n",
       "      <th>Duration</th>\n",
       "      <th>Stipend</th>\n",
       "      <th>workfromhome</th>\n",
       "    </tr>\n",
       "  </thead>\n",
       "  <tbody>\n",
       "    <tr>\n",
       "      <th>0</th>\n",
       "      <td>Education Requirements:\\nA Master’s or PhD is ...</td>\n",
       "      <td>NaN</td>\n",
       "      <td>NaN</td>\n",
       "      <td>NaN</td>\n",
       "      <td>NaN</td>\n",
       "      <td>NaN</td>\n",
       "      <td>NaN</td>\n",
       "      <td>NaN</td>\n",
       "      <td>NaN</td>\n",
       "      <td>NaN</td>\n",
       "      <td>NaN</td>\n",
       "      <td>0</td>\n",
       "      <td>0</td>\n",
       "      <td>0</td>\n",
       "      <td>0</td>\n",
       "    </tr>\n",
       "    <tr>\n",
       "      <th>1</th>\n",
       "      <td>About Eternal Robotics\\n\\nWebsite\\n\\nActivity ...</td>\n",
       "      <td>NaN</td>\n",
       "      <td>NaN</td>\n",
       "      <td>NaN</td>\n",
       "      <td>NaN</td>\n",
       "      <td>NaN</td>\n",
       "      <td>NaN</td>\n",
       "      <td>NaN</td>\n",
       "      <td>NaN</td>\n",
       "      <td>NaN</td>\n",
       "      <td>NaN</td>\n",
       "      <td>0</td>\n",
       "      <td>0</td>\n",
       "      <td>0</td>\n",
       "      <td>0</td>\n",
       "    </tr>\n",
       "    <tr>\n",
       "      <th>2</th>\n",
       "      <td>\\nActivity on Internshala\\n\\nHiring since Augu...</td>\n",
       "      <td>NaN</td>\n",
       "      <td>NaN</td>\n",
       "      <td>NaN</td>\n",
       "      <td>NaN</td>\n",
       "      <td>NaN</td>\n",
       "      <td>NaN</td>\n",
       "      <td>NaN</td>\n",
       "      <td>NaN</td>\n",
       "      <td>NaN</td>\n",
       "      <td>NaN</td>\n",
       "      <td>0</td>\n",
       "      <td>0</td>\n",
       "      <td>0</td>\n",
       "      <td>0</td>\n",
       "    </tr>\n",
       "  </tbody>\n",
       "</table>\n",
       "</div>"
      ],
      "text/plain": [
       "                                         Description  Unnamed: 1  Unnamed: 2  \\\n",
       "0  Education Requirements:\\nA Master’s or PhD is ...         NaN         NaN   \n",
       "1  About Eternal Robotics\\n\\nWebsite\\n\\nActivity ...         NaN         NaN   \n",
       "2  \\nActivity on Internshala\\n\\nHiring since Augu...         NaN         NaN   \n",
       "\n",
       "   Unnamed: 3  Unnamed: 4  Unnamed: 5  Unnamed: 6  Unnamed: 7  Unnamed: 8  \\\n",
       "0         NaN         NaN         NaN         NaN         NaN         NaN   \n",
       "1         NaN         NaN         NaN         NaN         NaN         NaN   \n",
       "2         NaN         NaN         NaN         NaN         NaN         NaN   \n",
       "\n",
       "   Unnamed: 9  Unnamed: 10  Code  Duration  Stipend  workfromhome  \n",
       "0         NaN          NaN     0         0        0             0  \n",
       "1         NaN          NaN     0         0        0             0  \n",
       "2         NaN          NaN     0         0        0             0  "
      ]
     },
     "execution_count": 60,
     "metadata": {},
     "output_type": "execute_result"
    }
   ],
   "source": [
    "df[\"Duration\"] = 0\n",
    "df['Stipend'] =0\n",
    "df['workfromhome'] =0\n",
    "df.head(3)"
   ]
  },
  {
   "cell_type": "code",
   "execution_count": 61,
   "metadata": {},
   "outputs": [
    {
     "data": {
      "text/plain": [
       "\"Activity on Internshala\\nHiring since April 2021\\n578 opportunities posted\\n12 candidates hired\\nAbout the work from home job/internship\\nSelected intern's day-to-day responsibilities include:\\n\\n1. Developing novel camera calibration, image processing, and computer vision algorithms\\n2. Simulating and modeling imaging optics and projective geometry\\n3. Designing and prototyping bench-top optical imaging and sensing systems\\n4. Developing iOS and/or OSX software for use case data collection and prototyping\\n5. Defining and documenting the systems architectures and system specifications for new features\\n6. Analyzing and characterizing electrical, optical, and optoelectronic components for new systems\\n7. Using computer control (MATLAB, Python, etc.) to automate repetitive measurements\\n8. Managing project deliverables and schedules to meet commitments to product development teams\\nSkill(s) required\\nPython\\nComputer Vision\\nLearn these skills on Internshala Trainings\\nLearn Python\\nLearn Computer Vision\\nLearn Web Development\\nLearn Machine Learning\\nWho can apply\\nOnly those candidates can apply who:\\n\\n1. are available for the work from home job/internship\\n\\n2. can start the work from home job/internship between 29th Sep'21 and 3rd Nov'21\\n\\n3. are available for duration of 3 months\\n\\n4. have relevant skills and interests\\n\\nPerks\\nCertificate\\nLetter of recommendation\\nFlexible work hours\\nNumber of openings\\n1\\n\""
      ]
     },
     "execution_count": 61,
     "metadata": {},
     "output_type": "execute_result"
    }
   ],
   "source": [
    "df['Description'][6]"
   ]
  },
  {
   "cell_type": "code",
   "execution_count": 62,
   "metadata": {},
   "outputs": [
    {
     "name": "stderr",
     "output_type": "stream",
     "text": [
      "<ipython-input-62-5926eefa4b70>:7: SettingWithCopyWarning: \n",
      "A value is trying to be set on a copy of a slice from a DataFrame\n",
      "\n",
      "See the caveats in the documentation: https://pandas.pydata.org/pandas-docs/stable/user_guide/indexing.html#returning-a-view-versus-a-copy\n",
      "  df['Duration'][i] = 0\n",
      "<ipython-input-62-5926eefa4b70>:5: SettingWithCopyWarning: \n",
      "A value is trying to be set on a copy of a slice from a DataFrame\n",
      "\n",
      "See the caveats in the documentation: https://pandas.pydata.org/pandas-docs/stable/user_guide/indexing.html#returning-a-view-versus-a-copy\n",
      "  df['Duration'][i] = int(before_keyword.split()[-1])\n"
     ]
    }
   ],
   "source": [
    "def searchmonth():\n",
    "    for i in range(len(df)):\n",
    "        if df['Description'][i].find('months') != -1:\n",
    "            before_keyword, keyword, after_keyword = df['Description'][i].partition('months')\n",
    "            df['Duration'][i] = int(before_keyword.split()[-1])\n",
    "        else:\n",
    "            df['Duration'][i] = 0\n",
    "searchmonth()"
   ]
  },
  {
   "cell_type": "code",
   "execution_count": 64,
   "metadata": {},
   "outputs": [
    {
     "data": {
      "text/plain": [
       "0      0\n",
       "1      6\n",
       "2      6\n",
       "3      5\n",
       "4      3\n",
       "5      3\n",
       "6      3\n",
       "7      0\n",
       "8      0\n",
       "9      0\n",
       "10     0\n",
       "11     0\n",
       "12     0\n",
       "13     0\n",
       "14     3\n",
       "15     6\n",
       "16     3\n",
       "17     3\n",
       "18     2\n",
       "19     6\n",
       "20     3\n",
       "21     3\n",
       "22     6\n",
       "23     2\n",
       "24     6\n",
       "25     0\n",
       "26     2\n",
       "27     2\n",
       "28     6\n",
       "29     3\n",
       "30     3\n",
       "31     3\n",
       "32     6\n",
       "33     6\n",
       "34     6\n",
       "35     3\n",
       "36     6\n",
       "37     2\n",
       "38     2\n",
       "39     6\n",
       "40    11\n",
       "41     0\n",
       "42     3\n",
       "43     6\n",
       "44     3\n",
       "45     0\n",
       "Name: Duration, dtype: int64"
      ]
     },
     "execution_count": 64,
     "metadata": {},
     "output_type": "execute_result"
    }
   ],
   "source": [
    "def searchmonth():\n",
    "    for i in range(len(df)):\n",
    "        if df['Description'][i].lower().find('stipend') != -1:\n",
    "            before_keyword, keyword, after_keyword = df['Description'][i].partition('stipend')\n",
    "            df['Duration'][i] = int(after_keyword.split()[1])\n",
    "        else:\n",
    "            df['Duration'][i] = 0\n",
    "searchmonth()"
   ]
  },
  {
   "cell_type": "code",
   "execution_count": null,
   "metadata": {},
   "outputs": [
    {
     "data": {
      "text/plain": [
       "'my'"
      ]
     },
     "execution_count": 43,
     "metadata": {},
     "output_type": "execute_result"
    }
   ],
   "source": [
    "before_keyword.split()[-1]"
   ]
  },
  {
   "cell_type": "code",
   "execution_count": null,
   "metadata": {},
   "outputs": [],
   "source": []
  }
 ],
 "metadata": {
  "interpreter": {
   "hash": "e788cca626493a5cbb749f6144f150cbbc90be890ac9da187dfcd9d300b0ce59"
  },
  "kernelspec": {
   "display_name": "Python 3.8.8 64-bit ('base': conda)",
   "name": "python3"
  },
  "language_info": {
   "codemirror_mode": {
    "name": "ipython",
    "version": 3
   },
   "file_extension": ".py",
   "mimetype": "text/x-python",
   "name": "python",
   "nbconvert_exporter": "python",
   "pygments_lexer": "ipython3",
   "version": "3.8.8"
  },
  "orig_nbformat": 4
 },
 "nbformat": 4,
 "nbformat_minor": 2
}
